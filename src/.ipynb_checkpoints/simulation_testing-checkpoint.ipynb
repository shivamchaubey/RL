{
 "cells": [
  {
   "cell_type": "code",
   "execution_count": 1,
   "metadata": {},
   "outputs": [],
   "source": [
    "import numpy as np\n",
    "import matplotlib.pyplot as plt\n",
    "from numpy import tan, arctan, cos, sin, pi\n",
    "from numpy.random import randn,rand\n",
    "import rospy\n",
    "data = np.load('inner_track.npy')"
   ]
  },
  {
   "cell_type": "code",
   "execution_count": 2,
   "metadata": {},
   "outputs": [
    {
     "data": {
      "text/plain": [
       "[<matplotlib.lines.Line2D at 0x7f30245cc940>]"
      ]
     },
     "execution_count": 2,
     "metadata": {},
     "output_type": "execute_result"
    },
    {
     "data": {
      "image/png": "[encoded data removed]",
      "text/plain": [
       "<Figure size 432x288 with 1 Axes>"
      ]
     },
     "metadata": {
      "needs_background": "light"
     },
     "output_type": "display_data"
    }
   ],
   "source": [
    "plt.plot(data[0],data[1],'o')"
   ]
  },
  {
   "cell_type": "code",
   "execution_count": 3,
   "metadata": {},
   "outputs": [],
   "source": [
    "class Simulator(object):\n",
    "    \"\"\" Object collecting GPS measurement data\n",
    "    Attributes:\n",
    "        Model params:\n",
    "            1.L_f 2.L_r 3.m(car mass) 3.I_z(car inertial) 4.c_f(equivalent drag coefficient)\n",
    "        States:\n",
    "            1.x 2.y 3.vx 4.vy 5.ax 6.ay 7.psiDot\n",
    "        States history:\n",
    "            1.x_his 2.y_his 3.vx_his 4.vy_his 5.ax_his 6.ay_his 7.psiDot_his\n",
    "        Simulator sampling time:\n",
    "            1. dt\n",
    "        Time stamp:\n",
    "            1. time_his\n",
    "    Methods:\n",
    "        f(u):\n",
    "            System model used to update the states\n",
    "        pacejka(ang):\n",
    "            Pacejka lateral tire modeling\n",
    "    \"\"\"\n",
    "    def __init__(self):\n",
    "\n",
    "        self.L_f    = 0.125\n",
    "        self.L_r    = 0.125\n",
    "        self.m      = 1.98\n",
    "        self.I_z    = 0.03\n",
    "        self.c_f    = 68\n",
    "\n",
    "        self.B = rospy.get_param(\"simulator/B\")\n",
    "        self.C = rospy.get_param(\"simulator/C\")\n",
    "        self.mu= 0.05\n",
    "        self.g = 9.81\n",
    "\n",
    "        self.x      = 0.01\n",
    "        self.y      = 0.0\n",
    "        self.vx     = 0\n",
    "        self.vy     = 0.0\n",
    "        self.ax     = 0.0\n",
    "        self.ay     = 0.0\n",
    "\n",
    "        self.yaw    = 0.0\n",
    "\n",
    "        self.psiDot = 0.0\n",
    "\n",
    "        self.x_his      = []\n",
    "        self.y_his      = []\n",
    "        self.vx_his     = []\n",
    "        self.vy_his     = []\n",
    "        self.ax_his     = []\n",
    "        self.ay_his     = []\n",
    "        self.psiDot_his = []\n",
    "\n",
    "        self.dt         = rospy.get_param(\"simulator/dt\")\n",
    "        self.rate       = rospy.Rate(1.0/self.dt)\n",
    "        self.time_his   = []\n",
    "\n",
    "\n",
    "    def f(self,u):\n",
    "        a_F = 0.0\n",
    "        a_R = 0.0\n",
    "\n",
    "        if abs(self.vx) > 0.2:\n",
    "            a_F = u[1] - arctan((self.vy + self.L_f*self.psiDot)/abs(self.vx))\n",
    "            a_R = arctan((- self.vy + self.L_r*self.psiDot)/abs(self.vx))\n",
    "\n",
    "        # FyF = self.pacejka(a_F)\n",
    "        # FyR = self.pacejka(a_R)\n",
    "        FyF = 60*a_F\n",
    "        FyR = 60*a_R\n",
    "\n",
    "\n",
    "        if abs(a_F) > 30.0/180.0*pi or abs(a_R) > 30.0/180.0*pi:\n",
    "            print (\"WARNING: Large slip angles in simulation\")\n",
    "\n",
    "        x   = self.x\n",
    "        y   = self.y\n",
    "        ax  = self.ax\n",
    "        ay  = self.ay\n",
    "        vx  = self.vx\n",
    "        vy  = self.vy\n",
    "        yaw = self.yaw\n",
    "        psiDot = self.psiDot\n",
    "                \n",
    "        self.x      += self.dt*(cos(yaw)*vx - sin(yaw)*vy)\n",
    "        self.y      += self.dt*(sin(yaw)*vx + cos(yaw)*vy)\n",
    "        self.vx     += self.dt*(ax + psiDot*vy)\n",
    "        self.vy     += self.dt*(ay - psiDot*vx)\n",
    "        self.ax      = u[0] - self.mu*vx - FyF/self.m*sin(u[1])\n",
    "        self.ay      = 1.0/self.m*(FyF*cos(u[1])+FyR)\n",
    "        self.yaw    += self.dt*(psiDot)                                        \n",
    "        self.psiDot += self.dt*(1.0/self.I_z*(self.L_f*FyF*cos(u[1]) - self.L_r*FyR))\n",
    "\n",
    "        self.vx = abs(self.vx)\n",
    "    \n",
    "\n",
    "    def pacejka(self,ang):\n",
    "        D = self.c_f*self.m*self.g/2    # Friction force/2\n",
    "        Stiffness_Force = D*sin(self.C*arctan(self.B*ang))\n",
    "        return Stiffness_Force\n",
    "\n",
    "    def saveHistory(self):\n",
    "        self.x_his.append(self.x)\n",
    "        self.y_his.append(self.y)\n",
    "        self.vx_his.append(self.vx)\n",
    "        self.vy_his.append(self.vy)\n",
    "        self.ax_his.append(self.ax)\n",
    "        self.ay_his.append(self.ay)\n",
    "        self.psiDot_his.append(self.psiDot)\n",
    "        self.time_his.append(rospy.get_rostime().to_sec()) \n",
    "\n"
   ]
  },
  {
   "cell_type": "code",
   "execution_count": 10,
   "metadata": {},
   "outputs": [
    {
     "data": {
      "text/plain": [
       "0.0007963267107332633"
      ]
     },
     "execution_count": 10,
     "metadata": {},
     "output_type": "execute_result"
    }
   ],
   "source": [
    "cos(90*3.14/180)"
   ]
  },
  {
   "cell_type": "code",
   "execution_count": 4,
   "metadata": {},
   "outputs": [
    {
     "ename": "KeyError",
     "evalue": "'simulator/B'",
     "output_type": "error",
     "traceback": [
      "\u001b[0;31m---------------------------------------------------------------------------\u001b[0m",
      "\u001b[0;31mKeyError\u001b[0m                                  Traceback (most recent call last)",
      "\u001b[0;32m<ipython-input-4-e5d509df0f50>\u001b[0m in \u001b[0;36m<module>\u001b[0;34m\u001b[0m\n\u001b[0;32m----> 1\u001b[0;31m \u001b[0msim\u001b[0m \u001b[0;34m=\u001b[0m \u001b[0mSimulator\u001b[0m\u001b[0;34m(\u001b[0m\u001b[0;34m)\u001b[0m\u001b[0;34m\u001b[0m\u001b[0;34m\u001b[0m\u001b[0m\n\u001b[0m\u001b[1;32m      2\u001b[0m \u001b[0msteer_in\u001b[0m \u001b[0;34m=\u001b[0m \u001b[0mnp\u001b[0m\u001b[0;34m.\u001b[0m\u001b[0mlinspace\u001b[0m\u001b[0;34m(\u001b[0m\u001b[0;36m0\u001b[0m\u001b[0;34m,\u001b[0m\u001b[0;36m0.249\u001b[0m\u001b[0;34m,\u001b[0m\u001b[0;36m500\u001b[0m\u001b[0;34m)\u001b[0m\u001b[0;34m\u001b[0m\u001b[0;34m\u001b[0m\u001b[0m\n\u001b[1;32m      3\u001b[0m \u001b[0macc_in\u001b[0m \u001b[0;34m=\u001b[0m \u001b[0mnp\u001b[0m\u001b[0;34m.\u001b[0m\u001b[0mlinspace\u001b[0m\u001b[0;34m(\u001b[0m\u001b[0;36m0\u001b[0m\u001b[0;34m,\u001b[0m\u001b[0;36m1\u001b[0m\u001b[0;34m,\u001b[0m\u001b[0;36m500\u001b[0m\u001b[0;34m)\u001b[0m\u001b[0;34m\u001b[0m\u001b[0;34m\u001b[0m\u001b[0m\n\u001b[1;32m      4\u001b[0m \u001b[0mdata\u001b[0m \u001b[0;34m=\u001b[0m \u001b[0;34m[\u001b[0m\u001b[0;34m]\u001b[0m\u001b[0;34m\u001b[0m\u001b[0;34m\u001b[0m\u001b[0m\n\u001b[1;32m      5\u001b[0m \u001b[0;32mfor\u001b[0m \u001b[0mi\u001b[0m\u001b[0;34m,\u001b[0m\u001b[0;34m(\u001b[0m\u001b[0macc\u001b[0m\u001b[0;34m,\u001b[0m\u001b[0msteer\u001b[0m\u001b[0;34m)\u001b[0m \u001b[0;32min\u001b[0m \u001b[0menumerate\u001b[0m\u001b[0;34m(\u001b[0m\u001b[0mzip\u001b[0m\u001b[0;34m(\u001b[0m\u001b[0macc_in\u001b[0m\u001b[0;34m,\u001b[0m\u001b[0msteer_in\u001b[0m\u001b[0;34m)\u001b[0m\u001b[0;34m)\u001b[0m\u001b[0;34m:\u001b[0m\u001b[0;34m\u001b[0m\u001b[0;34m\u001b[0m\u001b[0m\n",
      "\u001b[0;32m<ipython-input-3-b6b4009aa2d8>\u001b[0m in \u001b[0;36m__init__\u001b[0;34m(self)\u001b[0m\n\u001b[1;32m     26\u001b[0m         \u001b[0mself\u001b[0m\u001b[0;34m.\u001b[0m\u001b[0mc_f\u001b[0m    \u001b[0;34m=\u001b[0m \u001b[0;36m68\u001b[0m\u001b[0;34m\u001b[0m\u001b[0;34m\u001b[0m\u001b[0m\n\u001b[1;32m     27\u001b[0m \u001b[0;34m\u001b[0m\u001b[0m\n\u001b[0;32m---> 28\u001b[0;31m         \u001b[0mself\u001b[0m\u001b[0;34m.\u001b[0m\u001b[0mB\u001b[0m \u001b[0;34m=\u001b[0m \u001b[0mrospy\u001b[0m\u001b[0;34m.\u001b[0m\u001b[0mget_param\u001b[0m\u001b[0;34m(\u001b[0m\u001b[0;34m\"simulator/B\"\u001b[0m\u001b[0;34m)\u001b[0m\u001b[0;34m\u001b[0m\u001b[0;34m\u001b[0m\u001b[0m\n\u001b[0m\u001b[1;32m     29\u001b[0m         \u001b[0mself\u001b[0m\u001b[0;34m.\u001b[0m\u001b[0mC\u001b[0m \u001b[0;34m=\u001b[0m \u001b[0mrospy\u001b[0m\u001b[0;34m.\u001b[0m\u001b[0mget_param\u001b[0m\u001b[0;34m(\u001b[0m\u001b[0;34m\"simulator/C\"\u001b[0m\u001b[0;34m)\u001b[0m\u001b[0;34m\u001b[0m\u001b[0;34m\u001b[0m\u001b[0m\n\u001b[1;32m     30\u001b[0m         \u001b[0mself\u001b[0m\u001b[0;34m.\u001b[0m\u001b[0mmu\u001b[0m\u001b[0;34m=\u001b[0m \u001b[0;36m0.05\u001b[0m\u001b[0;34m\u001b[0m\u001b[0;34m\u001b[0m\u001b[0m\n",
      "\u001b[0;32m/opt/ros/kinetic/lib/python2.7/dist-packages/rospy/client.py\u001b[0m in \u001b[0;36mget_param\u001b[0;34m(param_name, default)\u001b[0m\n\u001b[1;32m    463\u001b[0m     \u001b[0;32mtry\u001b[0m\u001b[0;34m:\u001b[0m\u001b[0;34m\u001b[0m\u001b[0;34m\u001b[0m\u001b[0m\n\u001b[1;32m    464\u001b[0m         \u001b[0m_init_param_server\u001b[0m\u001b[0;34m(\u001b[0m\u001b[0;34m)\u001b[0m\u001b[0;34m\u001b[0m\u001b[0;34m\u001b[0m\u001b[0m\n\u001b[0;32m--> 465\u001b[0;31m         \u001b[0;32mreturn\u001b[0m \u001b[0m_param_server\u001b[0m\u001b[0;34m[\u001b[0m\u001b[0mparam_name\u001b[0m\u001b[0;34m]\u001b[0m \u001b[0;31m#MasterProxy does all the magic for us\u001b[0m\u001b[0;34m\u001b[0m\u001b[0;34m\u001b[0m\u001b[0m\n\u001b[0m\u001b[1;32m    466\u001b[0m     \u001b[0;32mexcept\u001b[0m \u001b[0mKeyError\u001b[0m\u001b[0;34m:\u001b[0m\u001b[0;34m\u001b[0m\u001b[0;34m\u001b[0m\u001b[0m\n\u001b[1;32m    467\u001b[0m         \u001b[0;32mif\u001b[0m \u001b[0mdefault\u001b[0m \u001b[0;34m!=\u001b[0m \u001b[0m_unspecified\u001b[0m\u001b[0;34m:\u001b[0m\u001b[0;34m\u001b[0m\u001b[0;34m\u001b[0m\u001b[0m\n",
      "\u001b[0;32m/opt/ros/kinetic/lib/python2.7/dist-packages/rospy/msproxy.py\u001b[0m in \u001b[0;36m__getitem__\u001b[0;34m(self, key)\u001b[0m\n\u001b[1;32m    121\u001b[0m                 \u001b[0mcode\u001b[0m\u001b[0;34m,\u001b[0m \u001b[0mmsg\u001b[0m\u001b[0;34m,\u001b[0m \u001b[0mvalue\u001b[0m \u001b[0;34m=\u001b[0m \u001b[0mself\u001b[0m\u001b[0;34m.\u001b[0m\u001b[0mtarget\u001b[0m\u001b[0;34m.\u001b[0m\u001b[0mgetParam\u001b[0m\u001b[0;34m(\u001b[0m\u001b[0mrospy\u001b[0m\u001b[0;34m.\u001b[0m\u001b[0mnames\u001b[0m\u001b[0;34m.\u001b[0m\u001b[0mget_caller_id\u001b[0m\u001b[0;34m(\u001b[0m\u001b[0;34m)\u001b[0m\u001b[0;34m,\u001b[0m \u001b[0mresolved_key\u001b[0m\u001b[0;34m)\u001b[0m\u001b[0;34m\u001b[0m\u001b[0;34m\u001b[0m\u001b[0m\n\u001b[1;32m    122\u001b[0m             \u001b[0;32mif\u001b[0m \u001b[0mcode\u001b[0m \u001b[0;34m!=\u001b[0m \u001b[0;36m1\u001b[0m\u001b[0;34m:\u001b[0m \u001b[0;31m#unwrap value with Python semantics\u001b[0m\u001b[0;34m\u001b[0m\u001b[0;34m\u001b[0m\u001b[0m\n\u001b[0;32m--> 123\u001b[0;31m                 \u001b[0;32mraise\u001b[0m \u001b[0mKeyError\u001b[0m\u001b[0;34m(\u001b[0m\u001b[0mkey\u001b[0m\u001b[0;34m)\u001b[0m\u001b[0;34m\u001b[0m\u001b[0;34m\u001b[0m\u001b[0m\n\u001b[0m\u001b[1;32m    124\u001b[0m             \u001b[0;32mreturn\u001b[0m \u001b[0mvalue\u001b[0m\u001b[0;34m\u001b[0m\u001b[0;34m\u001b[0m\u001b[0m\n\u001b[1;32m    125\u001b[0m \u001b[0;34m\u001b[0m\u001b[0m\n",
      "\u001b[0;31mKeyError\u001b[0m: 'simulator/B'"
     ]
    }
   ],
   "source": [
    "sim = Simulator()\n",
    "steer_in = np.linspace(0,0.249,500)\n",
    "acc_in = np.linspace(0,1,500)\n",
    "data = []\n",
    "for i,(acc,steer) in enumerate(zip(acc_in,steer_in)):\n",
    "\n",
    "        sim.f([acc,steer])\n",
    "        print (\"acc,steer\",acc,steer)\n",
    "        data.append([sim.x,sim.y])\n",
    "data = np.dstack(data)\n",
    "plt.plot(data[0][0],data[0][1]) \n",
    "#     print ('sim.vx',sim.vx,'sim.vy',sim.vy,'sim.x',sim.x,'sim.y',sim.y)"
   ]
  },
  {
   "cell_type": "code",
   "execution_count": 241,
   "metadata": {},
   "outputs": [
    {
     "data": {
      "text/plain": [
       "46.53570313170519"
      ]
     },
     "execution_count": 241,
     "metadata": {},
     "output_type": "execute_result"
    }
   ],
   "source": [
    "arctan(((data[0][1][-2]-data[0][1][-1])/(data[0][0][-2]-data[0][0][-1])))*180/3.14"
   ]
  },
  {
   "cell_type": "code",
   "execution_count": 78,
   "metadata": {},
   "outputs": [
    {
     "data": {
      "text/plain": [
       "array([0.00000000e+00, 0.00000000e+00, 0.00000000e+00, 1.26262626e-06,\n",
       "       5.05050505e-06, 1.26262626e-05, 2.52525253e-05, 4.41919192e-05,\n",
       "       7.07070707e-05, 1.06060606e-04, 1.51515152e-04, 2.08333333e-04,\n",
       "       2.77777778e-04, 3.61111111e-04, 4.59595960e-04, 5.74494949e-04,\n",
       "       7.07070707e-04, 8.58585859e-04, 1.03030303e-03, 1.22348485e-03,\n",
       "       1.43939394e-03, 1.67929293e-03, 1.94444444e-03, 2.23611111e-03,\n",
       "       2.55555556e-03, 2.90404040e-03, 3.28282828e-03, 3.69318182e-03,\n",
       "       4.13636364e-03, 4.61363636e-03, 5.12626263e-03, 5.67550505e-03,\n",
       "       6.26262626e-03, 6.88888889e-03, 7.55555556e-03, 8.26388889e-03,\n",
       "       9.01515152e-03, 9.81060606e-03, 1.06515152e-02, 1.15391414e-02,\n",
       "       1.24747475e-02, 1.34595960e-02, 1.44949495e-02, 1.55820707e-02,\n",
       "       1.67222222e-02, 1.79166667e-02, 1.91666667e-02, 2.04734848e-02,\n",
       "       2.18383838e-02, 2.32626263e-02, 2.47474747e-02, 2.62941919e-02,\n",
       "       2.79040404e-02, 2.95782828e-02, 3.13181818e-02, 3.31250000e-02,\n",
       "       3.50000000e-02, 3.69444444e-02, 3.89595960e-02, 4.10467172e-02,\n",
       "       4.32070707e-02, 4.54419192e-02, 4.77525253e-02, 5.01401515e-02,\n",
       "       5.26060606e-02, 5.51515152e-02, 5.77777778e-02, 6.04861111e-02,\n",
       "       6.32777778e-02, 6.61540404e-02, 6.91161616e-02, 7.21654040e-02,\n",
       "       7.53030303e-02, 7.85303030e-02, 8.18484848e-02, 8.52588384e-02,\n",
       "       8.87626263e-02, 9.23611111e-02, 9.44971688e-02, 9.52995374e-02,\n",
       "       9.62003964e-02, 9.72009878e-02, 9.83025454e-02, 9.95062942e-02,\n",
       "       1.00813450e-01, 1.02225220e-01, 1.03742802e-01, 1.05367381e-01,\n",
       "       1.07100136e-01, 1.08942232e-01, 1.10894826e-01, 1.12959062e-01,\n",
       "       1.15136075e-01, 1.17426984e-01, 1.19832902e-01, 1.22354924e-01,\n",
       "       1.24994137e-01, 1.27751614e-01, 1.30628413e-01, 1.33625580e-01])"
      ]
     },
     "execution_count": 78,
     "metadata": {},
     "output_type": "execute_result"
    }
   ],
   "source": [
    "data[0][0]"
   ]
  },
  {
   "cell_type": "code",
   "execution_count": 101,
   "metadata": {},
   "outputs": [
    {
     "data": {
      "text/plain": [
       "8.66380230907424"
      ]
     },
     "execution_count": 101,
     "metadata": {},
     "output_type": "execute_result"
    }
   ],
   "source": [
    "tan(0.15)*180/3.14"
   ]
  },
  {
   "cell_type": "code",
   "execution_count": 5,
   "metadata": {},
   "outputs": [
    {
     "data": {
      "text/plain": [
       "[<matplotlib.lines.Line2D at 0x7f3022201640>]"
      ]
     },
     "execution_count": 5,
     "metadata": {},
     "output_type": "execute_result"
    },
    {
     "data": {
      "image/png": "[encoded data removed]",
      "text/plain": [
       "<Figure size 432x288 with 1 Axes>"
      ]
     },
     "metadata": {
      "needs_background": "light"
     },
     "output_type": "display_data"
    }
   ],
   "source": [
    "def kin_sim(z,u,dt):\n",
    "        # get states / inputs\n",
    "        x       = z[0]\n",
    "        y       = z[1]\n",
    "        psi     = z[2]\n",
    "        v       = z[3]\n",
    "        d_f     = u[0]\n",
    "        a       = u[1]\n",
    "\n",
    "        # extract parameters\n",
    "        L_a = 0.125\n",
    "        L_b = 0.125\n",
    "\n",
    "        # compute slip angle\n",
    "        bta         = arctan( L_a / (L_a + L_b) * tan(d_f) )\n",
    "\n",
    "        # compute next state\n",
    "        x_next      = x + dt*( v*cos(psi + bta) )\n",
    "        y_next      = y + dt*( v*sin(psi + bta) )\n",
    "        psi_next    = psi + dt*v/L_b*sin(bta)\n",
    "        v_next      = v + dt*a\n",
    "\n",
    "        return [x_next, y_next, psi_next, v_next]\n",
    "\n",
    "    \n",
    "steer_in = np.linspace(0,0.254,50)\n",
    "acc_in = np.linspace(0,1,50)\n",
    "x_next =0\n",
    "y_next =0 \n",
    "psi_next = 0 \n",
    "v_next = 0\n",
    "dt = 0.1\n",
    "z = [x_next, y_next, psi_next, v_next]\n",
    "data = []\n",
    "for i,(acc,steer) in enumerate(zip(acc_in,steer_in)):\n",
    "        u = [steer,acc]\n",
    "        z = kin_sim(z,u,dt)\n",
    "        data.append(z)\n",
    "data = np.dstack(data)\n",
    "plt.plot(data[0][0],data[0][1])   \n",
    "    "
   ]
  },
  {
   "cell_type": "code",
   "execution_count": null,
   "metadata": {},
   "outputs": [],
   "source": []
  },
  {
   "cell_type": "code",
   "execution_count": 6,
   "metadata": {},
   "outputs": [],
   "source": [
    "max_acceleration=3.0 # max m/s2\n",
    "max_angle_steering=0.249 #Absolut value\n",
    "actions=[]\n",
    "for i in np.linspace(-2,max_acceleration,20): # 5 values of acceleration\n",
    "    for j in np.linspace(-max_angle_steering,max_angle_steering,7): # / values of angle steering\n",
    "        actions.append([round(i,1),round(j,3)])\n"
   ]
  },
  {
   "cell_type": "code",
   "execution_count": 25,
   "metadata": {},
   "outputs": [
    {
     "data": {
      "text/plain": [
       "[[-2.0, -0.249],\n",
       " [-2.0, -0.166],\n",
       " [-2.0, -0.083],\n",
       " [-2.0, 0.0],\n",
       " [-2.0, 0.083],\n",
       " [-2.0, 0.166],\n",
       " [-2.0, 0.249],\n",
       " [-1.7, -0.249],\n",
       " [-1.7, -0.166],\n",
       " [-1.7, -0.083],\n",
       " [-1.7, 0.0],\n",
       " [-1.7, 0.083],\n",
       " [-1.7, 0.166],\n",
       " [-1.7, 0.249],\n",
       " [-1.5, -0.249],\n",
       " [-1.5, -0.166],\n",
       " [-1.5, -0.083],\n",
       " [-1.5, 0.0],\n",
       " [-1.5, 0.083],\n",
       " [-1.5, 0.166],\n",
       " [-1.5, 0.249],\n",
       " [-1.2, -0.249],\n",
       " [-1.2, -0.166],\n",
       " [-1.2, -0.083],\n",
       " [-1.2, 0.0],\n",
       " [-1.2, 0.083],\n",
       " [-1.2, 0.166],\n",
       " [-1.2, 0.249],\n",
       " [-0.9, -0.249],\n",
       " [-0.9, -0.166],\n",
       " [-0.9, -0.083],\n",
       " [-0.9, 0.0],\n",
       " [-0.9, 0.083],\n",
       " [-0.9, 0.166],\n",
       " [-0.9, 0.249],\n",
       " [-0.7, -0.249],\n",
       " [-0.7, -0.166],\n",
       " [-0.7, -0.083],\n",
       " [-0.7, 0.0],\n",
       " [-0.7, 0.083],\n",
       " [-0.7, 0.166],\n",
       " [-0.7, 0.249],\n",
       " [-0.4, -0.249],\n",
       " [-0.4, -0.166],\n",
       " [-0.4, -0.083],\n",
       " [-0.4, 0.0],\n",
       " [-0.4, 0.083],\n",
       " [-0.4, 0.166],\n",
       " [-0.4, 0.249],\n",
       " [-0.2, -0.249],\n",
       " [-0.2, -0.166],\n",
       " [-0.2, -0.083],\n",
       " [-0.2, 0.0],\n",
       " [-0.2, 0.083],\n",
       " [-0.2, 0.166],\n",
       " [-0.2, 0.249],\n",
       " [0.1, -0.249],\n",
       " [0.1, -0.166],\n",
       " [0.1, -0.083],\n",
       " [0.1, 0.0],\n",
       " [0.1, 0.083],\n",
       " [0.1, 0.166],\n",
       " [0.1, 0.249],\n",
       " [0.4, -0.249],\n",
       " [0.4, -0.166],\n",
       " [0.4, -0.083],\n",
       " [0.4, 0.0],\n",
       " [0.4, 0.083],\n",
       " [0.4, 0.166],\n",
       " [0.4, 0.249],\n",
       " [0.6, -0.249],\n",
       " [0.6, -0.166],\n",
       " [0.6, -0.083],\n",
       " [0.6, 0.0],\n",
       " [0.6, 0.083],\n",
       " [0.6, 0.166],\n",
       " [0.6, 0.249],\n",
       " [0.9, -0.249],\n",
       " [0.9, -0.166],\n",
       " [0.9, -0.083],\n",
       " [0.9, 0.0],\n",
       " [0.9, 0.083],\n",
       " [0.9, 0.166],\n",
       " [0.9, 0.249],\n",
       " [1.2, -0.249],\n",
       " [1.2, -0.166],\n",
       " [1.2, -0.083],\n",
       " [1.2, 0.0],\n",
       " [1.2, 0.083],\n",
       " [1.2, 0.166],\n",
       " [1.2, 0.249],\n",
       " [1.4, -0.249],\n",
       " [1.4, -0.166],\n",
       " [1.4, -0.083],\n",
       " [1.4, 0.0],\n",
       " [1.4, 0.083],\n",
       " [1.4, 0.166],\n",
       " [1.4, 0.249],\n",
       " [1.7, -0.249],\n",
       " [1.7, -0.166],\n",
       " [1.7, -0.083],\n",
       " [1.7, 0.0],\n",
       " [1.7, 0.083],\n",
       " [1.7, 0.166],\n",
       " [1.7, 0.249],\n",
       " [1.9, -0.249],\n",
       " [1.9, -0.166],\n",
       " [1.9, -0.083],\n",
       " [1.9, 0.0],\n",
       " [1.9, 0.083],\n",
       " [1.9, 0.166],\n",
       " [1.9, 0.249],\n",
       " [2.2, -0.249],\n",
       " [2.2, -0.166],\n",
       " [2.2, -0.083],\n",
       " [2.2, 0.0],\n",
       " [2.2, 0.083],\n",
       " [2.2, 0.166],\n",
       " [2.2, 0.249],\n",
       " [2.5, -0.249],\n",
       " [2.5, -0.166],\n",
       " [2.5, -0.083],\n",
       " [2.5, 0.0],\n",
       " [2.5, 0.083],\n",
       " [2.5, 0.166],\n",
       " [2.5, 0.249],\n",
       " [2.7, -0.249],\n",
       " [2.7, -0.166],\n",
       " [2.7, -0.083],\n",
       " [2.7, 0.0],\n",
       " [2.7, 0.083],\n",
       " [2.7, 0.166],\n",
       " [2.7, 0.249],\n",
       " [3.0, -0.249],\n",
       " [3.0, -0.166],\n",
       " [3.0, -0.083],\n",
       " [3.0, 0.0],\n",
       " [3.0, 0.083],\n",
       " [3.0, 0.166],\n",
       " [3.0, 0.249]]"
      ]
     },
     "execution_count": 25,
     "metadata": {},
     "output_type": "execute_result"
    }
   ],
   "source": [
    "actions"
   ]
  },
  {
   "cell_type": "code",
   "execution_count": 39,
   "metadata": {},
   "outputs": [
    {
     "data": {
      "image/png": "[encoded data removed]",
      "text/plain": [
       "<Figure size 432x288 with 1 Axes>"
      ]
     },
     "metadata": {
      "needs_background": "light"
     },
     "output_type": "display_data"
    }
   ],
   "source": [
    "import matplotlib.pyplot as plt\n",
    "from matplotlib.path import Path\n",
    "import matplotlib.patches as patches\n",
    "\n",
    "x = 0\n",
    "y = 0\n",
    "h= 1\n",
    "w = 1\n",
    "verts1 = [\n",
    "   (x, y),  # left, bottom\n",
    "   (x, h),  # left, top\n",
    "   (w, h),  # right, top\n",
    "   (w, y),  # right, bottom\n",
    "   (0., 0.),  # ignored\n",
    "]\n",
    "\n",
    "\n",
    "x = 2\n",
    "y = 0\n",
    "h= 1\n",
    "w = 1\n",
    "verts2 = [\n",
    "   (x, y),  # left, bottom\n",
    "   (x, h),  # left, top\n",
    "   (w, h),  # right, top\n",
    "   (w, y),  # right, bottom\n",
    "   (0., 0.),  # ignored\n",
    "]\n",
    "\n",
    "\n",
    "codes = [\n",
    "    Path.MOVETO,\n",
    "    Path.LINETO,\n",
    "    Path.LINETO,\n",
    "    Path.LINETO,\n",
    "    Path.CLOSEPOLY,\n",
    "]\n",
    "\n",
    "path1 = Path(verts1, codes)\n",
    "path2 = Path(verts2, codes)\n",
    "\n",
    "fig, ax = plt.subplots()\n",
    "patch1 = patches.PathPatch(path1, facecolor=(1, 0, 0), lw=2)\n",
    "ax.add_patch(patch1)\n",
    "\n",
    "patch2 = patches.PathPatch(path2, facecolor=(1, 0, 1), lw=2)\n",
    "ax.add_patch(patch2)\n",
    "\n",
    "ax.set_xlim(-2, 8)\n",
    "ax.set_ylim(-2,8)\n",
    "plt.show()"
   ]
  },
  {
   "cell_type": "code",
   "execution_count": 10,
   "metadata": {},
   "outputs": [
    {
     "name": "stdout",
     "output_type": "stream",
     "text": [
      "track selected L_shape\n"
     ]
    },
    {
     "ename": "ValueError",
     "evalue": "Invalid RGBA argument: 'G'",
     "output_type": "error",
     "traceback": [
      "\u001b[0;31m---------------------------------------------------------------------------\u001b[0m",
      "\u001b[0;31mValueError\u001b[0m                                Traceback (most recent call last)",
      "\u001b[0;32m<ipython-input-10-82ad8c6cd258>\u001b[0m in \u001b[0;36m<module>\u001b[0;34m\u001b[0m\n\u001b[0;32m----> 1\u001b[0;31m \u001b[0;32mfrom\u001b[0m \u001b[0mvehicle_error\u001b[0m \u001b[0;32mimport\u001b[0m \u001b[0;34m*\u001b[0m\u001b[0;34m\u001b[0m\u001b[0;34m\u001b[0m\u001b[0m\n\u001b[0m\u001b[1;32m      2\u001b[0m \u001b[0;32mfrom\u001b[0m \u001b[0mvehicle_error\u001b[0m \u001b[0;32mimport\u001b[0m \u001b[0m_initializeFigure_xy\u001b[0m\u001b[0;34m\u001b[0m\u001b[0;34m\u001b[0m\u001b[0m\n",
      "\u001b[0;32m~/Desktop/course/sem3/robot_learning/git/project/my_work/new/vehicle/src/vehicle_training/src/vehicle_error.py\u001b[0m in \u001b[0;36m<module>\u001b[0;34m\u001b[0m\n\u001b[1;32m    606\u001b[0m \u001b[0mtrack_map\u001b[0m   \u001b[0;34m=\u001b[0m \u001b[0mMap\u001b[0m\u001b[0;34m(\u001b[0m\u001b[0;34m)\u001b[0m\u001b[0;34m\u001b[0m\u001b[0;34m\u001b[0m\u001b[0m\n\u001b[1;32m    607\u001b[0m ( fig, axtr, line_planning, line_tr, line_pred, line_SS, line_cl, line_gps_cl, rec,\\\n\u001b[0;32m--> 608\u001b[0;31m          rec_sim, rec_planning ) = _initializeFigure_xy(track_map)\n\u001b[0m\u001b[1;32m    609\u001b[0m \u001b[0;34m\u001b[0m\u001b[0m\n\u001b[1;32m    610\u001b[0m         \u001b[0;31m# Plotting the estimated car:\u001b[0m\u001b[0;34m\u001b[0m\u001b[0;34m\u001b[0m\u001b[0;34m\u001b[0m\u001b[0m\n",
      "\u001b[0;32m~/Desktop/course/sem3/robot_learning/git/project/my_work/new/vehicle/src/vehicle_training/src/vehicle_error.py\u001b[0m in \u001b[0;36m_initializeFigure_xy\u001b[0;34m(map)\u001b[0m\n\u001b[1;32m    582\u001b[0m \u001b[0;34m\u001b[0m\u001b[0m\n\u001b[1;32m    583\u001b[0m     \u001b[0;31m# Vehicle:\u001b[0m\u001b[0;34m\u001b[0m\u001b[0;34m\u001b[0m\u001b[0;34m\u001b[0m\u001b[0m\n\u001b[0;32m--> 584\u001b[0;31m     \u001b[0mrec_sim\u001b[0m \u001b[0;34m=\u001b[0m \u001b[0mpatches\u001b[0m\u001b[0;34m.\u001b[0m\u001b[0mPolygon\u001b[0m\u001b[0;34m(\u001b[0m\u001b[0mv\u001b[0m\u001b[0;34m,\u001b[0m \u001b[0malpha\u001b[0m\u001b[0;34m=\u001b[0m\u001b[0;36m0.7\u001b[0m\u001b[0;34m,\u001b[0m \u001b[0mclosed\u001b[0m\u001b[0;34m=\u001b[0m\u001b[0;32mTrue\u001b[0m\u001b[0;34m,\u001b[0m \u001b[0mfc\u001b[0m\u001b[0;34m=\u001b[0m\u001b[0;34m'G'\u001b[0m\u001b[0;34m,\u001b[0m \u001b[0mec\u001b[0m\u001b[0;34m=\u001b[0m\u001b[0;34m'k'\u001b[0m\u001b[0;34m,\u001b[0m \u001b[0mzorder\u001b[0m\u001b[0;34m=\u001b[0m\u001b[0;36m10\u001b[0m\u001b[0;34m)\u001b[0m\u001b[0;34m\u001b[0m\u001b[0;34m\u001b[0m\u001b[0m\n\u001b[0m\u001b[1;32m    585\u001b[0m \u001b[0;34m\u001b[0m\u001b[0m\n\u001b[1;32m    586\u001b[0m     \u001b[0;31m# if mode == \"simulations\":\u001b[0m\u001b[0;34m\u001b[0m\u001b[0;34m\u001b[0m\u001b[0;34m\u001b[0m\u001b[0m\n",
      "\u001b[0;32m~/pyenv/lib/python3.8/site-packages/matplotlib/patches.py\u001b[0m in \u001b[0;36m__init__\u001b[0;34m(self, xy, closed, **kwargs)\u001b[0m\n\u001b[1;32m   1018\u001b[0m         \u001b[0;34m%\u001b[0m\u001b[0;34m(\u001b[0m\u001b[0mPatch\u001b[0m\u001b[0;34m)\u001b[0m\u001b[0ms\u001b[0m\u001b[0;34m\u001b[0m\u001b[0;34m\u001b[0m\u001b[0m\n\u001b[1;32m   1019\u001b[0m         \"\"\"\n\u001b[0;32m-> 1020\u001b[0;31m         \u001b[0mPatch\u001b[0m\u001b[0;34m.\u001b[0m\u001b[0m__init__\u001b[0m\u001b[0;34m(\u001b[0m\u001b[0mself\u001b[0m\u001b[0;34m,\u001b[0m \u001b[0;34m**\u001b[0m\u001b[0mkwargs\u001b[0m\u001b[0;34m)\u001b[0m\u001b[0;34m\u001b[0m\u001b[0;34m\u001b[0m\u001b[0m\n\u001b[0m\u001b[1;32m   1021\u001b[0m         \u001b[0mself\u001b[0m\u001b[0;34m.\u001b[0m\u001b[0m_closed\u001b[0m \u001b[0;34m=\u001b[0m \u001b[0mclosed\u001b[0m\u001b[0;34m\u001b[0m\u001b[0;34m\u001b[0m\u001b[0m\n\u001b[1;32m   1022\u001b[0m         \u001b[0mself\u001b[0m\u001b[0;34m.\u001b[0m\u001b[0mset_xy\u001b[0m\u001b[0;34m(\u001b[0m\u001b[0mxy\u001b[0m\u001b[0;34m)\u001b[0m\u001b[0;34m\u001b[0m\u001b[0;34m\u001b[0m\u001b[0m\n",
      "\u001b[0;32m~/pyenv/lib/python3.8/site-packages/matplotlib/patches.py\u001b[0m in \u001b[0;36m__init__\u001b[0;34m(self, edgecolor, facecolor, color, linewidth, linestyle, antialiased, hatch, fill, capstyle, joinstyle, **kwargs)\u001b[0m\n\u001b[1;32m     93\u001b[0m \u001b[0;34m\u001b[0m\u001b[0m\n\u001b[1;32m     94\u001b[0m         \u001b[0;32mif\u001b[0m \u001b[0mlen\u001b[0m\u001b[0;34m(\u001b[0m\u001b[0mkwargs\u001b[0m\u001b[0;34m)\u001b[0m\u001b[0;34m:\u001b[0m\u001b[0;34m\u001b[0m\u001b[0;34m\u001b[0m\u001b[0m\n\u001b[0;32m---> 95\u001b[0;31m             \u001b[0mself\u001b[0m\u001b[0;34m.\u001b[0m\u001b[0mupdate\u001b[0m\u001b[0;34m(\u001b[0m\u001b[0mkwargs\u001b[0m\u001b[0;34m)\u001b[0m\u001b[0;34m\u001b[0m\u001b[0;34m\u001b[0m\u001b[0m\n\u001b[0m\u001b[1;32m     96\u001b[0m \u001b[0;34m\u001b[0m\u001b[0m\n\u001b[1;32m     97\u001b[0m     \u001b[0;32mdef\u001b[0m \u001b[0mget_verts\u001b[0m\u001b[0;34m(\u001b[0m\u001b[0mself\u001b[0m\u001b[0;34m)\u001b[0m\u001b[0;34m:\u001b[0m\u001b[0;34m\u001b[0m\u001b[0;34m\u001b[0m\u001b[0m\n",
      "\u001b[0;32m~/pyenv/lib/python3.8/site-packages/matplotlib/artist.py\u001b[0m in \u001b[0;36mupdate\u001b[0;34m(self, props)\u001b[0m\n\u001b[1;32m    996\u001b[0m                         raise AttributeError(f\"{type(self).__name__!r} object \"\n\u001b[1;32m    997\u001b[0m                                              f\"has no property {k!r}\")\n\u001b[0;32m--> 998\u001b[0;31m                     \u001b[0mret\u001b[0m\u001b[0;34m.\u001b[0m\u001b[0mappend\u001b[0m\u001b[0;34m(\u001b[0m\u001b[0mfunc\u001b[0m\u001b[0;34m(\u001b[0m\u001b[0mv\u001b[0m\u001b[0;34m)\u001b[0m\u001b[0;34m)\u001b[0m\u001b[0;34m\u001b[0m\u001b[0;34m\u001b[0m\u001b[0m\n\u001b[0m\u001b[1;32m    999\u001b[0m         \u001b[0;32mif\u001b[0m \u001b[0mret\u001b[0m\u001b[0;34m:\u001b[0m\u001b[0;34m\u001b[0m\u001b[0;34m\u001b[0m\u001b[0m\n\u001b[1;32m   1000\u001b[0m             \u001b[0mself\u001b[0m\u001b[0;34m.\u001b[0m\u001b[0mpchanged\u001b[0m\u001b[0;34m(\u001b[0m\u001b[0;34m)\u001b[0m\u001b[0;34m\u001b[0m\u001b[0;34m\u001b[0m\u001b[0m\n",
      "\u001b[0;32m~/pyenv/lib/python3.8/site-packages/matplotlib/cbook/__init__.py\u001b[0m in \u001b[0;36mmethod\u001b[0;34m(self, *args, **kwargs)\u001b[0m\n\u001b[1;32m   1874\u001b[0m         \u001b[0;34m@\u001b[0m\u001b[0mfunctools\u001b[0m\u001b[0;34m.\u001b[0m\u001b[0mwraps\u001b[0m\u001b[0;34m(\u001b[0m\u001b[0mgetattr\u001b[0m\u001b[0;34m(\u001b[0m\u001b[0mcls\u001b[0m\u001b[0;34m,\u001b[0m \u001b[0mname\u001b[0m\u001b[0;34m)\u001b[0m\u001b[0;34m)\u001b[0m\u001b[0;34m\u001b[0m\u001b[0;34m\u001b[0m\u001b[0m\n\u001b[1;32m   1875\u001b[0m         \u001b[0;32mdef\u001b[0m \u001b[0mmethod\u001b[0m\u001b[0;34m(\u001b[0m\u001b[0mself\u001b[0m\u001b[0;34m,\u001b[0m \u001b[0;34m*\u001b[0m\u001b[0margs\u001b[0m\u001b[0;34m,\u001b[0m \u001b[0;34m**\u001b[0m\u001b[0mkwargs\u001b[0m\u001b[0;34m)\u001b[0m\u001b[0;34m:\u001b[0m\u001b[0;34m\u001b[0m\u001b[0;34m\u001b[0m\u001b[0m\n\u001b[0;32m-> 1876\u001b[0;31m             \u001b[0;32mreturn\u001b[0m \u001b[0mgetattr\u001b[0m\u001b[0;34m(\u001b[0m\u001b[0mself\u001b[0m\u001b[0;34m,\u001b[0m \u001b[0mname\u001b[0m\u001b[0;34m)\u001b[0m\u001b[0;34m(\u001b[0m\u001b[0;34m*\u001b[0m\u001b[0margs\u001b[0m\u001b[0;34m,\u001b[0m \u001b[0;34m**\u001b[0m\u001b[0mkwargs\u001b[0m\u001b[0;34m)\u001b[0m\u001b[0;34m\u001b[0m\u001b[0;34m\u001b[0m\u001b[0m\n\u001b[0m\u001b[1;32m   1877\u001b[0m         \u001b[0;32mreturn\u001b[0m \u001b[0mmethod\u001b[0m\u001b[0;34m\u001b[0m\u001b[0;34m\u001b[0m\u001b[0m\n\u001b[1;32m   1878\u001b[0m \u001b[0;34m\u001b[0m\u001b[0m\n",
      "\u001b[0;32m~/pyenv/lib/python3.8/site-packages/matplotlib/patches.py\u001b[0m in \u001b[0;36mset_facecolor\u001b[0;34m(self, color)\u001b[0m\n\u001b[1;32m    353\u001b[0m         \"\"\"\n\u001b[1;32m    354\u001b[0m         \u001b[0mself\u001b[0m\u001b[0;34m.\u001b[0m\u001b[0m_original_facecolor\u001b[0m \u001b[0;34m=\u001b[0m \u001b[0mcolor\u001b[0m\u001b[0;34m\u001b[0m\u001b[0;34m\u001b[0m\u001b[0m\n\u001b[0;32m--> 355\u001b[0;31m         \u001b[0mself\u001b[0m\u001b[0;34m.\u001b[0m\u001b[0m_set_facecolor\u001b[0m\u001b[0;34m(\u001b[0m\u001b[0mcolor\u001b[0m\u001b[0;34m)\u001b[0m\u001b[0;34m\u001b[0m\u001b[0;34m\u001b[0m\u001b[0m\n\u001b[0m\u001b[1;32m    356\u001b[0m \u001b[0;34m\u001b[0m\u001b[0m\n\u001b[1;32m    357\u001b[0m     \u001b[0;32mdef\u001b[0m \u001b[0mset_color\u001b[0m\u001b[0;34m(\u001b[0m\u001b[0mself\u001b[0m\u001b[0;34m,\u001b[0m \u001b[0mc\u001b[0m\u001b[0;34m)\u001b[0m\u001b[0;34m:\u001b[0m\u001b[0;34m\u001b[0m\u001b[0;34m\u001b[0m\u001b[0m\n",
      "\u001b[0;32m~/pyenv/lib/python3.8/site-packages/matplotlib/patches.py\u001b[0m in \u001b[0;36m_set_facecolor\u001b[0;34m(self, color)\u001b[0m\n\u001b[1;32m    341\u001b[0m             \u001b[0mcolor\u001b[0m \u001b[0;34m=\u001b[0m \u001b[0mmpl\u001b[0m\u001b[0;34m.\u001b[0m\u001b[0mrcParams\u001b[0m\u001b[0;34m[\u001b[0m\u001b[0;34m'patch.facecolor'\u001b[0m\u001b[0;34m]\u001b[0m\u001b[0;34m\u001b[0m\u001b[0;34m\u001b[0m\u001b[0m\n\u001b[1;32m    342\u001b[0m         \u001b[0malpha\u001b[0m \u001b[0;34m=\u001b[0m \u001b[0mself\u001b[0m\u001b[0;34m.\u001b[0m\u001b[0m_alpha\u001b[0m \u001b[0;32mif\u001b[0m \u001b[0mself\u001b[0m\u001b[0;34m.\u001b[0m\u001b[0m_fill\u001b[0m \u001b[0;32melse\u001b[0m \u001b[0;36m0\u001b[0m\u001b[0;34m\u001b[0m\u001b[0;34m\u001b[0m\u001b[0m\n\u001b[0;32m--> 343\u001b[0;31m         \u001b[0mself\u001b[0m\u001b[0;34m.\u001b[0m\u001b[0m_facecolor\u001b[0m \u001b[0;34m=\u001b[0m \u001b[0mcolors\u001b[0m\u001b[0;34m.\u001b[0m\u001b[0mto_rgba\u001b[0m\u001b[0;34m(\u001b[0m\u001b[0mcolor\u001b[0m\u001b[0;34m,\u001b[0m \u001b[0malpha\u001b[0m\u001b[0;34m)\u001b[0m\u001b[0;34m\u001b[0m\u001b[0;34m\u001b[0m\u001b[0m\n\u001b[0m\u001b[1;32m    344\u001b[0m         \u001b[0mself\u001b[0m\u001b[0;34m.\u001b[0m\u001b[0mstale\u001b[0m \u001b[0;34m=\u001b[0m \u001b[0;32mTrue\u001b[0m\u001b[0;34m\u001b[0m\u001b[0;34m\u001b[0m\u001b[0m\n\u001b[1;32m    345\u001b[0m \u001b[0;34m\u001b[0m\u001b[0m\n",
      "\u001b[0;32m~/pyenv/lib/python3.8/site-packages/matplotlib/colors.py\u001b[0m in \u001b[0;36mto_rgba\u001b[0;34m(c, alpha)\u001b[0m\n\u001b[1;32m    187\u001b[0m         \u001b[0mrgba\u001b[0m \u001b[0;34m=\u001b[0m \u001b[0;32mNone\u001b[0m\u001b[0;34m\u001b[0m\u001b[0;34m\u001b[0m\u001b[0m\n\u001b[1;32m    188\u001b[0m     \u001b[0;32mif\u001b[0m \u001b[0mrgba\u001b[0m \u001b[0;32mis\u001b[0m \u001b[0;32mNone\u001b[0m\u001b[0;34m:\u001b[0m  \u001b[0;31m# Suppress exception chaining of cache lookup failure.\u001b[0m\u001b[0;34m\u001b[0m\u001b[0;34m\u001b[0m\u001b[0m\n\u001b[0;32m--> 189\u001b[0;31m         \u001b[0mrgba\u001b[0m \u001b[0;34m=\u001b[0m \u001b[0m_to_rgba_no_colorcycle\u001b[0m\u001b[0;34m(\u001b[0m\u001b[0mc\u001b[0m\u001b[0;34m,\u001b[0m \u001b[0malpha\u001b[0m\u001b[0;34m)\u001b[0m\u001b[0;34m\u001b[0m\u001b[0;34m\u001b[0m\u001b[0m\n\u001b[0m\u001b[1;32m    190\u001b[0m         \u001b[0;32mtry\u001b[0m\u001b[0;34m:\u001b[0m\u001b[0;34m\u001b[0m\u001b[0;34m\u001b[0m\u001b[0m\n\u001b[1;32m    191\u001b[0m             \u001b[0m_colors_full_map\u001b[0m\u001b[0;34m.\u001b[0m\u001b[0mcache\u001b[0m\u001b[0;34m[\u001b[0m\u001b[0mc\u001b[0m\u001b[0;34m,\u001b[0m \u001b[0malpha\u001b[0m\u001b[0;34m]\u001b[0m \u001b[0;34m=\u001b[0m \u001b[0mrgba\u001b[0m\u001b[0;34m\u001b[0m\u001b[0;34m\u001b[0m\u001b[0m\n",
      "\u001b[0;32m~/pyenv/lib/python3.8/site-packages/matplotlib/colors.py\u001b[0m in \u001b[0;36m_to_rgba_no_colorcycle\u001b[0;34m(c, alpha)\u001b[0m\n\u001b[1;32m    258\u001b[0m                     f\"Value must be within 0-1 range\")\n\u001b[1;32m    259\u001b[0m             \u001b[0;32mreturn\u001b[0m \u001b[0mc\u001b[0m\u001b[0;34m,\u001b[0m \u001b[0mc\u001b[0m\u001b[0;34m,\u001b[0m \u001b[0mc\u001b[0m\u001b[0;34m,\u001b[0m \u001b[0malpha\u001b[0m \u001b[0;32mif\u001b[0m \u001b[0malpha\u001b[0m \u001b[0;32mis\u001b[0m \u001b[0;32mnot\u001b[0m \u001b[0;32mNone\u001b[0m \u001b[0;32melse\u001b[0m \u001b[0;36m1.\u001b[0m\u001b[0;34m\u001b[0m\u001b[0;34m\u001b[0m\u001b[0m\n\u001b[0;32m--> 260\u001b[0;31m         \u001b[0;32mraise\u001b[0m \u001b[0mValueError\u001b[0m\u001b[0;34m(\u001b[0m\u001b[0;34mf\"Invalid RGBA argument: {orig_c!r}\"\u001b[0m\u001b[0;34m)\u001b[0m\u001b[0;34m\u001b[0m\u001b[0;34m\u001b[0m\u001b[0m\n\u001b[0m\u001b[1;32m    261\u001b[0m     \u001b[0;31m# tuple color.\u001b[0m\u001b[0;34m\u001b[0m\u001b[0;34m\u001b[0m\u001b[0;34m\u001b[0m\u001b[0m\n\u001b[1;32m    262\u001b[0m     \u001b[0;32mif\u001b[0m \u001b[0;32mnot\u001b[0m \u001b[0mnp\u001b[0m\u001b[0;34m.\u001b[0m\u001b[0miterable\u001b[0m\u001b[0;34m(\u001b[0m\u001b[0mc\u001b[0m\u001b[0;34m)\u001b[0m\u001b[0;34m:\u001b[0m\u001b[0;34m\u001b[0m\u001b[0;34m\u001b[0m\u001b[0m\n",
      "\u001b[0;31mValueError\u001b[0m: Invalid RGBA argument: 'G'"
     ]
    },
    {
     "data": {
      "image/png": "[encoded data removed]",
      "text/plain": [
       "<Figure size 720x576 with 1 Axes>"
      ]
     },
     "metadata": {
      "needs_background": "light"
     },
     "output_type": "display_data"
    }
   ],
   "source": [
    "from vehicle_error import *\n",
    "from vehicle_error import _initializeFigure_xy"
   ]
  },
  {
   "cell_type": "code",
   "execution_count": 260,
   "metadata": {},
   "outputs": [
    {
     "name": "stdout",
     "output_type": "stream",
     "text": [
      "[[[0.00000000e+00]\n",
      "  [0.00000000e+00]\n",
      "  [2.00400777e-05]\n",
      "  ...\n",
      "  [8.66382038e-01]\n",
      "  [3.18930393e+00]\n",
      "  [8.00677810e-01]]\n",
      "\n",
      " [[0.00000000e+00]\n",
      "  [0.00000000e+00]\n",
      "  [9.99996191e-09]\n",
      "  ...\n",
      "  [3.96979000e+00]\n",
      "  [4.83842874e+00]\n",
      "  [5.54168206e+00]]\n",
      "\n",
      " [[0.00000000e+00]\n",
      "  [0.00000000e+00]\n",
      "  [7.99996953e-08]\n",
      "  ...\n",
      "  [3.08107724e+02]\n",
      "  [3.10604885e+02]\n",
      "  [3.13117260e+02]]\n",
      "\n",
      " [[0.00000000e+00]\n",
      "  [2.00400802e-04]\n",
      "  [6.01202405e-04]\n",
      "  ...\n",
      "  [2.48002004e+01]\n",
      "  [2.49000000e+01]\n",
      "  [2.50000000e+01]]]\n"
     ]
    }
   ],
   "source": [
    "data = np.dstack(data)\n",
    "\n",
    "print (data)"
   ]
  }
 ],
 "metadata": {
  "kernelspec": {
   "display_name": "Python 2",
   "language": "python",
   "name": "python2"
  },
  "language_info": {
   "codemirror_mode": {
    "name": "ipython",
    "version": 3
   },
   "file_extension": ".py",
   "mimetype": "text/x-python",
   "name": "python",
   "nbconvert_exporter": "python",
   "pygments_lexer": "ipython3",
   "version": "3.8.7"
  }
 },
 "nbformat": 4,
 "nbformat_minor": 4
}
